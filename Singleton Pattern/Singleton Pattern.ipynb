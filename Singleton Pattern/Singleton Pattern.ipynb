{
 "cells": [
  {
   "cell_type": "markdown",
   "metadata": {},
   "source": [
    "### The Problem\n",
    "Print statements help you to debug, but you can't rely on print statements for production code. So we write these statements to a file instead."
   ]
  },
  {
   "cell_type": "code",
   "execution_count": null,
   "metadata": {},
   "outputs": [],
   "source": [
    "#opens a file and appends the passed message to the file\n",
    "def log_message(msg):\n",
    "    with open('filename.log','a') as log_file:\n",
    "        log_file.write(\"{0}\\n\".format(msg))"
   ]
  },
  {
   "cell_type": "code",
   "execution_count": null,
   "metadata": {},
   "outputs": [],
   "source": [
    "log_message('message goes here')"
   ]
  },
  {
   "cell_type": "code",
   "execution_count": null,
   "metadata": {},
   "outputs": [],
   "source": [
    "#once again but with file import\n",
    "import logger\n",
    "\n",
    "for i in range(4):\n",
    "    logger.log_message(f'log message {i}')"
   ]
  },
  {
   "cell_type": "markdown",
   "metadata": {},
   "source": [
    "As the number of messages increase, we'll need to distinguish between them (page 25)."
   ]
  },
  {
   "cell_type": "code",
   "execution_count": null,
   "metadata": {},
   "outputs": [],
   "source": [
    "logger.critical('this is a critical message')"
   ]
  },
  {
   "cell_type": "markdown",
   "metadata": {},
   "source": [
    "### Enter the Objects\n",
    "\n",
    "\"filename.log\" is still hard coded in the logger.py file. We'll fix that with a class definition.\n",
    "\n",
    "Classes in Python allow you to define logical groupings of data and functions. The also allow you to add some contextual data "
   ]
  },
  {
   "cell_type": "code",
   "execution_count": null,
   "metadata": {},
   "outputs": [],
   "source": [
    "from logger_class import Logger\n",
    "\n",
    "logger_object = Logger(\"log/class_logger.log\")\n",
    "\n",
    "logger_object.info('this is an info message')"
   ]
  },
  {
   "cell_type": "markdown",
   "metadata": {},
   "source": [
    "### Cleaning it up\n",
    "\"what you want is some way to get the same logger that you already created if there is one, or create a new logger if none already exist\", (page 32). "
   ]
  },
  {
   "cell_type": "code",
   "execution_count": 19,
   "metadata": {},
   "outputs": [],
   "source": [
    "from singleton_object import SingletonObject"
   ]
  },
  {
   "cell_type": "code",
   "execution_count": 20,
   "metadata": {},
   "outputs": [
    {
     "name": "stdout",
     "output_type": "stream",
     "text": [
      "print obj1:  <class 'singleton_object.SingletonObject.__SingletonObject'>\n",
      "-----\n",
      "print obj1:  <class 'singleton_object.SingletonObject.__SingletonObject'>\n",
      "print obj2:  <class 'singleton_object.SingletonObject.__SingletonObject'>\n"
     ]
    }
   ],
   "source": [
    "#test singleton object\n",
    "obj1 = SingletonObject()\n",
    "\n",
    "obj1.val = \"Object value 1\"\n",
    "print('print obj1: ', obj1 )\n",
    "\n",
    "print(\"-----\")\n",
    "obj2 = SingletonObject()\n",
    "obj2.val = \"Object value 2\"\n",
    "print('print obj1: ', obj1 )\n",
    "print('print obj2: ', obj2 )"
   ]
  },
  {
   "cell_type": "code",
   "execution_count": 21,
   "metadata": {},
   "outputs": [
    {
     "data": {
      "text/plain": [
       "True"
      ]
     },
     "execution_count": 21,
     "metadata": {},
     "output_type": "execute_result"
    }
   ],
   "source": [
    "obj1==obj2"
   ]
  },
  {
   "cell_type": "code",
   "execution_count": 26,
   "metadata": {},
   "outputs": [],
   "source": [
    "logger = SingletonObject()"
   ]
  },
  {
   "cell_type": "code",
   "execution_count": 27,
   "metadata": {},
   "outputs": [
    {
     "data": {
      "text/plain": [
       "'file.log'"
      ]
     },
     "execution_count": 27,
     "metadata": {},
     "output_type": "execute_result"
    }
   ],
   "source": [
    "logger.file_name"
   ]
  },
  {
   "cell_type": "code",
   "execution_count": 28,
   "metadata": {},
   "outputs": [
    {
     "ename": "TypeError",
     "evalue": "critical() missing 1 required positional argument: 'msg'",
     "output_type": "error",
     "traceback": [
      "\u001b[0;31m---------------------------------------------------------------------------\u001b[0m",
      "\u001b[0;31mTypeError\u001b[0m                                 Traceback (most recent call last)",
      "\u001b[0;32m<ipython-input-28-0161b3b92822>\u001b[0m in \u001b[0;36m<module>\u001b[0;34m\u001b[0m\n\u001b[0;32m----> 1\u001b[0;31m \u001b[0mlogger\u001b[0m\u001b[0;34m.\u001b[0m\u001b[0mcritical\u001b[0m\u001b[0;34m(\u001b[0m\u001b[0;34m'h'\u001b[0m\u001b[0;34m)\u001b[0m\u001b[0;34m\u001b[0m\u001b[0;34m\u001b[0m\u001b[0m\n\u001b[0m",
      "\u001b[0;31mTypeError\u001b[0m: critical() missing 1 required positional argument: 'msg'"
     ]
    }
   ],
   "source": [
    "logger.critical('h')"
   ]
  }
 ],
 "metadata": {
  "kernelspec": {
   "display_name": "Python 3",
   "language": "python",
   "name": "python3"
  },
  "language_info": {
   "codemirror_mode": {
    "name": "ipython",
    "version": 3
   },
   "file_extension": ".py",
   "mimetype": "text/x-python",
   "name": "python",
   "nbconvert_exporter": "python",
   "pygments_lexer": "ipython3",
   "version": "3.7.3"
  }
 },
 "nbformat": 4,
 "nbformat_minor": 4
}
